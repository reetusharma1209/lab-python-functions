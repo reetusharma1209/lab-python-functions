{
 "cells": [
  {
   "cell_type": "markdown",
   "id": "25d7736c-ba17-4aff-b6bb-66eba20fbf4e",
   "metadata": {},
   "source": [
    "# Lab | Functions"
   ]
  },
  {
   "cell_type": "code",
   "execution_count": 4,
   "id": "b8c78909-204a-493d-b12a-3f33655f1fc1",
   "metadata": {},
   "outputs": [],
   "source": [
    "\n",
    "def initialize_inventory(products):\n",
    "    inventory = {}\n",
    "    for product in products:\n",
    "        quantity = int(input(f\"Enter the quantity for {product}: \"))\n",
    "        inventory[product] = quantity\n",
    "    return inventory\n",
    "\n"
   ]
  },
  {
   "cell_type": "code",
   "execution_count": 5,
   "id": "a52730ce-6c3a-4642-b962-1d700b1f503e",
   "metadata": {},
   "outputs": [
    {
     "name": "stdin",
     "output_type": "stream",
     "text": [
      "Enter the quantity for t-shirt:  6\n",
      "Enter the quantity for mug:  4\n",
      "Enter the quantity for hat:  3\n",
      "Enter the quantity for book:  8\n",
      "Enter the quantity for keychain:  2\n"
     ]
    },
    {
     "data": {
      "text/plain": [
       "{'t-shirt': 6, 'mug': 4, 'hat': 3, 'book': 8, 'keychain': 2}"
      ]
     },
     "execution_count": 5,
     "metadata": {},
     "output_type": "execute_result"
    }
   ],
   "source": [
    "products = [\"t-shirt\", \"mug\", \"hat\", \"book\", \"keychain\"] \n",
    "inventory = initialize_inventory(products)\n",
    "inventory"
   ]
  },
  {
   "cell_type": "code",
   "execution_count": 6,
   "id": "24f77c4d-165c-4de5-a86e-d5d203654a95",
   "metadata": {},
   "outputs": [],
   "source": [
    "def get_customer_orders():\n",
    "    customer_orders = set()\n",
    "    while True:\n",
    "        user_input = input(\"Enter the name of a product you want to order: \")\n",
    "        customer_orders.add(user_input)\n",
    "        input_another_product = input(\"Do you want to add another product? (yes/no): \")\n",
    "        if input_another_product == 'no':\n",
    "           break\n",
    "    return customer_orders"
   ]
  },
  {
   "cell_type": "code",
   "execution_count": 7,
   "id": "5a532a7e-c8f1-4f7f-9b45-eaa0817b6f64",
   "metadata": {},
   "outputs": [
    {
     "name": "stdin",
     "output_type": "stream",
     "text": [
      "Enter the name of a product you want to order:  t-shirt\n",
      "Do you want to add another product? (yes/no):  yes\n",
      "Enter the name of a product you want to order:  hat\n",
      "Do you want to add another product? (yes/no):  yes\n",
      "Enter the name of a product you want to order:  book\n",
      "Do you want to add another product? (yes/no):  no\n"
     ]
    },
    {
     "data": {
      "text/plain": [
       "{'book', 'hat', 't-shirt'}"
      ]
     },
     "execution_count": 7,
     "metadata": {},
     "output_type": "execute_result"
    }
   ],
   "source": [
    "customer_orders = get_customer_orders()\n",
    "customer_orders"
   ]
  },
  {
   "cell_type": "code",
   "execution_count": 8,
   "id": "6841ae7d-e9bb-4970-995c-edc27f804694",
   "metadata": {},
   "outputs": [
    {
     "data": {
      "text/plain": [
       "{'t-shirt': 5, 'mug': 4, 'hat': 2, 'book': 7, 'keychain': 2}"
      ]
     },
     "execution_count": 8,
     "metadata": {},
     "output_type": "execute_result"
    }
   ],
   "source": [
    "def update_inventory(customer_orders, inventory):\n",
    "    for product in customer_orders:\n",
    "        if product in inventory:\n",
    "            inventory[product] -= 1\n",
    "    return inventory\n",
    "inventory = update_inventory(customer_orders, inventory)\n",
    "inventory\n"
   ]
  },
  {
   "cell_type": "code",
   "execution_count": 9,
   "id": "00f9be22-5328-4ee1-baa1-0b8e5962471d",
   "metadata": {},
   "outputs": [],
   "source": [
    "def calculate_order_statistics(customer_orders, products):\n",
    "    total_products_ordered = len(customer_orders)\n",
    "    percentage_unique_products_ordered = (total_products_ordered / len(products)) * 100\n",
    "    return total_products_ordered, percentage_unique_products_ordered\n"
   ]
  },
  {
   "cell_type": "code",
   "execution_count": 10,
   "id": "f4435be1-dc73-477e-b453-a4a32fbc255c",
   "metadata": {},
   "outputs": [
    {
     "data": {
      "text/plain": [
       "(3, 60.0)"
      ]
     },
     "execution_count": 10,
     "metadata": {},
     "output_type": "execute_result"
    }
   ],
   "source": [
    "order_statistics = calculate_order_statistics(customer_orders, products)\n",
    "order_statistics"
   ]
  },
  {
   "cell_type": "code",
   "execution_count": 11,
   "id": "cfa0a82e-e944-4ebd-913a-cdc884e4e6a5",
   "metadata": {},
   "outputs": [],
   "source": [
    "def print_order_statistics(order_statistics):\n",
    "    print(f\"Total products ordered: {total_products_ordered}\")\n",
    "    print(f\"Percentage of unique products ordered: {percentage_unique_products_ordered}\")"
   ]
  },
  {
   "cell_type": "code",
   "execution_count": 12,
   "id": "89d9cf10-197d-49aa-b1ca-7317b57c1275",
   "metadata": {},
   "outputs": [],
   "source": [
    "total_products_ordered = len(customer_orders)\n",
    "percentage_unique_products_ordered = (total_products_ordered / len(products)) * 100\n"
   ]
  },
  {
   "cell_type": "code",
   "execution_count": 15,
   "id": "3165d593-0885-466d-ac1d-7619f389d210",
   "metadata": {},
   "outputs": [
    {
     "name": "stdout",
     "output_type": "stream",
     "text": [
      "Total products ordered: 3\n",
      "Percentage of unique products ordered: 60.0\n"
     ]
    }
   ],
   "source": [
    "print_order_statistics(order_statistics)"
   ]
  },
  {
   "cell_type": "code",
   "execution_count": 16,
   "id": "648a9917-903a-4e04-bc3b-cf044f32d091",
   "metadata": {},
   "outputs": [],
   "source": [
    "def print_updated_inventory(inventory):\n",
    "    print(\"updated inventory:\")\n",
    "    for product, quantity in inventory.items():\n",
    "        print(f\"{product}: {quantity}\")"
   ]
  },
  {
   "cell_type": "code",
   "execution_count": 23,
   "id": "450b9611-4844-4c08-809e-7768dc315547",
   "metadata": {},
   "outputs": [
    {
     "name": "stdout",
     "output_type": "stream",
     "text": [
      "updated inventory:\n",
      "t-shirt: 5\n",
      "mug: 6\n",
      "hat: 7\n",
      "book: 3\n",
      "keychain: 8\n"
     ]
    }
   ],
   "source": [
    "print_updated_inventory(inventory)"
   ]
  },
  {
   "cell_type": "markdown",
   "id": "0c581062-8967-4d93-b06e-62833222f930",
   "metadata": {
    "tags": []
   },
   "source": [
    "## Exercise: Managing Customer Orders with Functions\n",
    "\n",
    "In the previous exercise, you improved the code for managing customer orders by using loops and flow control. Now, let's take it a step further and refactor the code by introducing functions.\n",
    "\n",
    "Follow the steps below to complete the exercise:\n",
    "\n",
    "1. Define a function named `initialize_inventory` that takes `products` as a parameter. Inside the function, implement the code for initializing the inventory dictionary using a loop and user input.\n",
    "\n",
    "2. Define a function named `get_customer_orders` that takes no parameters. Inside the function, implement the code for prompting the user to enter the product names using a loop. The function should return the `customer_orders` set.\n",
    "\n",
    "3. Define a function named `update_inventory` that takes `customer_orders` and `inventory` as parameters. Inside the function, implement the code for updating the inventory dictionary based on the customer orders.\n",
    "\n",
    "4. Define a function named `calculate_order_statistics` that takes `customer_orders` and `products` as parameters. Inside the function, implement the code for calculating the order statistics (total products ordered, and percentage of unique products ordered). The function should return these values.\n",
    "\n",
    "5. Define a function named `print_order_statistics` that takes `order_statistics` as a parameter. Inside the function, implement the code for printing the order statistics.\n",
    "\n",
    "6. Define a function named `print_updated_inventory` that takes `inventory` as a parameter. Inside the function, implement the code for printing the updated inventory.\n",
    "\n",
    "7. Call the functions in the appropriate sequence to execute the program and manage customer orders.\n",
    "\n",
    "Hints for functions:\n",
    "\n",
    "- Consider the input parameters required for each function and their return values.\n",
    "- Utilize function parameters and return values to transfer data between functions.\n",
    "- Test your functions individually to ensure they work correctly.\n",
    "\n",
    "\n"
   ]
  },
  {
   "cell_type": "code",
   "execution_count": null,
   "id": "19e212e8-d767-4fdc-8e1b-13be9711f6c6",
   "metadata": {},
   "outputs": [],
   "source": []
  }
 ],
 "metadata": {
  "kernelspec": {
   "display_name": "Python 3 (ipykernel)",
   "language": "python",
   "name": "python3"
  },
  "language_info": {
   "codemirror_mode": {
    "name": "ipython",
    "version": 3
   },
   "file_extension": ".py",
   "mimetype": "text/x-python",
   "name": "python",
   "nbconvert_exporter": "python",
   "pygments_lexer": "ipython3",
   "version": "3.11.7"
  }
 },
 "nbformat": 4,
 "nbformat_minor": 5
}
